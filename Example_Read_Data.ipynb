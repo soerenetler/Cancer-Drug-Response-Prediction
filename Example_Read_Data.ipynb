{
 "cells": [
  {
   "cell_type": "code",
   "execution_count": 1,
   "metadata": {},
   "outputs": [],
   "source": [
    "from ImportData import importData"
   ]
  },
  {
   "cell_type": "code",
   "execution_count": 2,
   "metadata": {
    "scrolled": true
   },
   "outputs": [
    {
     "name": "stderr",
     "output_type": "stream",
     "text": [
      "100%|##########| 12134/12134 [00:27<00:00, 435.94it/s]\n",
      "100%|##########| 36994/36994 [03:53<00:00, 158.49it/s]\n"
     ]
    }
   ],
   "source": [
    "df = importData()"
   ]
  },
  {
   "cell_type": "code",
   "execution_count": 3,
   "metadata": {},
   "outputs": [],
   "source": [
    "#from sklearn.ensemble import RandomForestRegressor\n",
    "#regr = RandomForestRegressor(max_depth=2, random_state=0, n_estimators=1)\n",
    "#regr.fit(df.select_dtypes(exclude=['object']).loc[:, df.select_dtypes(exclude=['object']).columns != 'IC50'], df[\"IC50\"])"
   ]
  }
 ],
 "metadata": {
  "kernelspec": {
   "display_name": "Python 3",
   "language": "python",
   "name": "python3"
  },
  "language_info": {
   "codemirror_mode": {
    "name": "ipython",
    "version": 3
   },
   "file_extension": ".py",
   "mimetype": "text/x-python",
   "name": "python",
   "nbconvert_exporter": "python",
   "pygments_lexer": "ipython3",
   "version": "3.6.4"
  }
 },
 "nbformat": 4,
 "nbformat_minor": 2
}
